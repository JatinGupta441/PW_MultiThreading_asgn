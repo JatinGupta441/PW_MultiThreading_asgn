{
 "cells": [
  {
   "cell_type": "code",
   "execution_count": null,
   "id": "07ad4117",
   "metadata": {},
   "outputs": [],
   "source": [
    "#Q1\n",
    "#Multithreading in python is a technique to run a programme effecently. In this technique, the processes run concurrently.\n",
    "#Threading module is used to handle threads."
   ]
  },
  {
   "cell_type": "code",
   "execution_count": null,
   "id": "d7e8d86c",
   "metadata": {},
   "outputs": [],
   "source": [
    "#Q2\n",
    "#activeCount():This function returns the number of Thread objects currently alive. It returns an integer representing the number of active threads in the current program.\n",
    "#currentThread():This function returns the current Thread object corresponding to the caller's thread. It is often used to obtain information about the currently executing thread, such as its name or identification.\n",
    "#enumerate():This function returns a list of all currently active Thread objects. Each Thread object represents an individual thread that is currently running or alive. This function is useful for obtaining a list of all active threads and performing operations on them."
   ]
  },
  {
   "cell_type": "code",
   "execution_count": null,
   "id": "6a5d4c36",
   "metadata": {},
   "outputs": [],
   "source": [
    "#Q3\n",
    "#run():The run() method is the entry point for the thread's activity. It is the method that will be executed when the thread is started.\n",
    "#start():The start() method is used to start a thread's activity.\n",
    "#join():The join() method is used to wait for the thread to complete its execution.\n",
    "#isAlive():The isAlive() method is used to check whether a thread is currently active."
   ]
  },
  {
   "cell_type": "code",
   "execution_count": 3,
   "id": "dd4a1629",
   "metadata": {},
   "outputs": [
    {
     "name": "stdout",
     "output_type": "stream",
     "text": [
      "1\n",
      "4\n",
      "9\n",
      "1\n",
      "8\n",
      "27\n"
     ]
    }
   ],
   "source": [
    "#Q4\n",
    "import threading\n",
    "\n",
    "def square(n):\n",
    "    print(n**2)\n",
    "\n",
    "def cube(n):\n",
    "    print(n**3)\n",
    "\n",
    "th1=[threading.Thread(target=square,args=(i,)) for i in range(1,4)]\n",
    "for t in th1:\n",
    "    t.start()\n",
    "th2=[threading.Thread(target=cube,args=(i,)) for i in range(1,4)]\n",
    "for t in th2:\n",
    "    t.start()"
   ]
  },
  {
   "cell_type": "code",
   "execution_count": null,
   "id": "19a6f653",
   "metadata": {},
   "outputs": [],
   "source": [
    "#Q5\n",
    "#Advantages: it improves overall performance of the programmes, shares resourses better between programmes\n",
    "#disadvantages: Deadlock, race conditions can take place, data is not safe as it uses shared resourses by default"
   ]
  },
  {
   "cell_type": "code",
   "execution_count": null,
   "id": "78d82f3f",
   "metadata": {},
   "outputs": [],
   "source": [
    "#Q6\n",
    "#Deadlocks:A deadlock occurs when two or more threads or processes are blocked indefinitely, waiting for each other to release resources that they hold.\n",
    "#Race Conditions:A race condition occurs when the behavior or outcome of a program depends on the relative timing or interleaving of multiple threads or processes."
   ]
  }
 ],
 "metadata": {
  "kernelspec": {
   "display_name": "Python 3 (ipykernel)",
   "language": "python",
   "name": "python3"
  },
  "language_info": {
   "codemirror_mode": {
    "name": "ipython",
    "version": 3
   },
   "file_extension": ".py",
   "mimetype": "text/x-python",
   "name": "python",
   "nbconvert_exporter": "python",
   "pygments_lexer": "ipython3",
   "version": "3.9.13"
  }
 },
 "nbformat": 4,
 "nbformat_minor": 5
}
